{
 "cells": [
  {
   "cell_type": "code",
   "execution_count": null,
   "metadata": {},
   "outputs": [],
   "source": [
    "from bs4 import BeautifulSoup\n",
    "import requests\n",
    "import re"
   ]
  },
  {
   "cell_type": "code",
   "execution_count": null,
   "metadata": {},
   "outputs": [],
   "source": [
    "# FUNCTIONS\n",
    "\n",
    "def filter(x):\n",
    "    temp = \"\"\n",
    "    for i in range(len(x)):\n",
    "        temp += (x[i].text)\n",
    "    temp = temp.replace(\"\\n\",\" \")\n",
    "    temp = re.sub(\"[\\[].*?[\\]]\", \"\", temp)\n",
    "    temp = temp.replace(\"\\\\\", \"\")\n",
    "    temp = temp.encode(\"ascii\", \"ignore\")\n",
    "    temp = temp.decode()\n",
    "    temp = temp.replace(\"...\", \".\")\n",
    "    return temp\n",
    "\n",
    "def writer(url, title):\n",
    "    for i in range(len(url)):\n",
    "        page = requests.get(url[i])\n",
    "        soup = BeautifulSoup(page.content, \"html.parser\")\n",
    "        content = soup.find(id=\"bodyContent\").find_all(\"p\")\n",
    "        content = filter(content)\n",
    "        path = \"Scrapped books/\" + title[i] + \".txt\"\n",
    "        text = open(path, \"w\")\n",
    "        text.write(content)\n",
    "        text.close()"
   ]
  },
  {
   "cell_type": "code",
   "execution_count": null,
   "metadata": {},
   "outputs": [],
   "source": [
    "novellas_title = [\"At the Mountains of Madness\",\n",
    "                    \"The Dunwich Horror\",\n",
    "                    \"The Horror at Red Hook\",\n",
    "                    \"The Shadow Out of Time\",\n",
    "                    \"The Shadow Over Innsmouth\",\n",
    "                    \"The Whisperer in Darkness\"]\n",
    "\n",
    "novellas_url = novellas_title.copy()\n",
    "for i in range(len(novellas_title)):\n",
    "    novellas_url[i] = \"https://en.wikisource.org/wiki/\" \\\n",
    "                        + novellas_url[i] \\\n",
    "                        + \"/full\"\n",
    "    novellas_url[i] = novellas_url[i].replace(\" \", \"_\")"
   ]
  },
  {
   "cell_type": "code",
   "execution_count": null,
   "metadata": {},
   "outputs": [],
   "source": [
    "stories_title = [\"The Alchemist_(Lovecraft)\",\n",
    "                \"The Colour Out of Space\",\n",
    "                \"From Beyond\",\n",
    "                \"The Nameless City\",\n",
    "                \"The Other Gods\",\n",
    "                \"The Unnamable\",\n",
    "                \"The Shunned House\",\n",
    "                \"The Dreams in the Witch-House\",\n",
    "                \"The Dream-Quest of Unknown Kadath\"]\n",
    "\n",
    "stories_url = stories_title.copy()\n",
    "for i in range(len(stories_title)):\n",
    "    stories_url[i] = \"https://en.wikisource.org/wiki/\" \\\n",
    "                        + stories_url[i]\n",
    "    stories_url[i] = stories_url[i].replace(\" \", \"_\")"
   ]
  },
  {
   "cell_type": "code",
   "execution_count": null,
   "metadata": {},
   "outputs": [],
   "source": [
    "writer(novellas_url, novellas_title)\n",
    "writer(stories_url,stories_title)"
   ]
  }
 ],
 "metadata": {
  "kernelspec": {
   "display_name": "Python 3.9.7 ('base')",
   "language": "python",
   "name": "python3"
  },
  "language_info": {
   "codemirror_mode": {
    "name": "ipython",
    "version": 3
   },
   "file_extension": ".py",
   "mimetype": "text/x-python",
   "name": "python",
   "nbconvert_exporter": "python",
   "pygments_lexer": "ipython3",
   "version": "3.9.7"
  },
  "orig_nbformat": 4,
  "vscode": {
   "interpreter": {
    "hash": "34ab73eb2a201c4b750598ec4bd41f14c725bb809bc0c8207569acb80dee3ff5"
   }
  }
 },
 "nbformat": 4,
 "nbformat_minor": 2
}

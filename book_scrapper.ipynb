{
 "cells": [
  {
   "cell_type": "code",
   "execution_count": 1,
   "metadata": {},
   "outputs": [],
   "source": [
    "from bs4 import BeautifulSoup\n",
    "import requests\n",
    "import re\n",
    "import shutil\n",
    "import webbrowser"
   ]
  },
  {
   "cell_type": "code",
   "execution_count": 25,
   "metadata": {},
   "outputs": [],
   "source": [
    "# FUNCTIONS\n",
    "\n",
    "def filter(x):\n",
    "    temp = \"\"\n",
    "    for i in range(len(x)):\n",
    "        temp += (x[i].text)\n",
    "    temp = temp.replace(\"\\n\",\" \")\n",
    "    temp = re.sub(\"[\\[].*?[\\]]\", \"\", temp)\n",
    "    temp = temp.replace(\"\\\\\", \"\")\n",
    "    temp = temp.encode(\"ascii\", \"ignore\")\n",
    "    temp = temp.decode()\n",
    "    temp = temp.replace(\"...\", \".\")\n",
    "    return temp\n",
    "\n",
    "def writer(url, title):\n",
    "    for i in range(len(url)):\n",
    "        page = requests.get(url[i])\n",
    "        soup = BeautifulSoup(page.content, \"html.parser\")\n",
    "        content = soup.find(id=\"bodyContent\").find_all(\"p\")\n",
    "        content = filter(content)\n",
    "        path = \"Scrapped books(Lovecraft)/\" + title[i] + \".txt\"\n",
    "        text = open(path, \"w\")\n",
    "        text.write(content)\n",
    "        text.close()\n",
    "\n",
    "def gutenberg(link, first_char):\n",
    "    r = requests.get(link)\n",
    "    soup = BeautifulSoup(r.content, \"html.parser\")\n",
    "    temp = soup.text\n",
    "    temp = re.sub(\"[\\n\\r]\", \" \", temp)\n",
    "    temp = re.sub(\" +\", \" \", temp)\n",
    "    temp = re.sub(\"[\\[].*?[\\]]\", \"\", temp)\n",
    "    temp = temp.encode(\"ascii\", \"ignore\")\n",
    "    temp = temp.decode()\n",
    "    temp = temp[first_char:]\n",
    "    path = \"Scrapped books(Shakespeare)/complete_corpus.txt\"\n",
    "    text = open(path, \"w\")\n",
    "    text.write(temp)\n",
    "    text.close()"
   ]
  },
  {
   "cell_type": "code",
   "execution_count": 73,
   "metadata": {},
   "outputs": [],
   "source": [
    "novellas_title = [\"At the Mountains of Madness\",\n",
    "                    \"The Dunwich Horror\",\n",
    "                    \"The Horror at Red Hook\",\n",
    "                    \"The Shadow Out of Time\",\n",
    "                    \"The Shadow Over Innsmouth\",\n",
    "                    \"The Whisperer in Darkness\"]\n",
    "stories_title = [\"The Alchemist_(Lovecraft)\",\n",
    "                \"The Colour Out of Space\",\n",
    "                \"From Beyond\",\n",
    "                \"The Nameless City\",\n",
    "                \"The Other Gods\",\n",
    "                \"The Unnamable\",\n",
    "                \"The Shunned House\",\n",
    "                \"The Dreams in the Witch-House\",\n",
    "                \"The Dream-Quest of Unknown Kadath\"]\n",
    "\n",
    "novellas_url = novellas_title.copy()\n",
    "for i in range(len(novellas_title)):\n",
    "    novellas_url[i] = \"https://en.wikisource.org/wiki/\" \\\n",
    "                        + novellas_url[i] \\\n",
    "                        + \"/full\"\n",
    "    novellas_url[i] = novellas_url[i].replace(\" \", \"_\")\n",
    "stories_url = stories_title.copy()\n",
    "for i in range(len(stories_title)):\n",
    "    stories_url[i] = \"https://en.wikisource.org/wiki/\" \\\n",
    "                        + stories_url[i]\n",
    "    stories_url[i] = stories_url[i].replace(\" \", \"_\")"
   ]
  },
  {
   "cell_type": "code",
   "execution_count": null,
   "metadata": {},
   "outputs": [],
   "source": [
    "writer(novellas_url, novellas_title)\n",
    "writer(stories_url,stories_title)"
   ]
  },
  {
   "cell_type": "code",
   "execution_count": 75,
   "metadata": {},
   "outputs": [],
   "source": [
    "titles = [\"Scrapped books(Lovecraft)/\" \n",
    "            + i\n",
    "            + \".txt\"    \n",
    "            for i in novellas_title]\n",
    "with open(\"Scrapped books(Lovecraft)/complete_corpus.txt\",\n",
    "            \"wb\") as dest:\n",
    "    for i in titles:\n",
    "        with open(i, \"rb\") as sour:\n",
    "            shutil.copyfileobj(sour, dest)"
   ]
  },
  {
   "cell_type": "code",
   "execution_count": 71,
   "metadata": {},
   "outputs": [],
   "source": [
    "link = \"https://www.gutenberg.org/cache/epub/100/pg100.txt\"\n",
    "gutenberg(link, 1977)"
   ]
  },
  {
   "cell_type": "code",
   "execution_count": 4,
   "metadata": {},
   "outputs": [],
   "source": [
    "rvh_url = [\"169cx9MPbFGEetw0LfiJ29lmtBKp1DrnCF4wzsIgLrug\",\n",
    "        \"1PBGjWZIv5rt7mskouBRHd1idgggW7wq7uGxV1YOunRc\",\n",
    "        \"19GI3u9npnu1hu7HuRfX_MkYkKhHBcWIpfdAMdyQsFL4\",\n",
    "        \"1oP5-HwUh86TDuLj-H9oV6ype-P6Fx7DX7yh-rdPFW6Q\",\n",
    "        \"13hTN-q7lwnVRW0-Xgcb50215ZQbhW8KS7q_nPeccKpQ\",\n",
    "        \"15JEuYHNTb074NTAAEId2QfohjihAItKsJd3sOfkLtV8\",\n",
    "        \"16z2sRhmIWNrbYjdZ_mcx2dlT3bhJjtZ-q5f02nHOcpA\",\n",
    "        \"1CUGZeMdvKPSKszU8S_OHd3lJLRKZHzUm-r5dMX1Ynqc\",\n",
    "        \"1lm15SpKM0rONoXnoat82OZ3ddBQrpB5UXdzVs1_Blpg\",\n",
    "        \"1GdM8qtmsajJ8Rv9uiAdkX-k2mX7JC_18sVacybT9tv0\",\n",
    "        \"1tZESsux3wMbAtNPqEw_nVrMOK9ZQAIat0jDvc0mw7gU\",\n",
    "        \"1yXPmhuez-W676DUII2HrPWJPqxo0oHpSnF_PEGLt9MQ\",\n",
    "        \"1ViuV79MTar8KNyoUK7hkzvquiQMoPvFLgWTmZJWmXEs\",\n",
    "        \"19IlWF1tuqS7NM-QtWscYB3zrvHqYpT8ownC19nPfrlY\",\n",
    "        \"173fZss9eDkD2xZ3NCddW9s3N1jyXTy4LFMvJ7plnh7Y\",\n",
    "        \"1Z0M7xtsrn_Lg_uKtkWtvp_di9AC1JG2pMJncJ3F6ZXM\",\n",
    "        \"1GbusztUKzR2xp7fvNebvL9USh7Ps8ms8vEugsvAytu0\",\n",
    "        \"1nkA57Ejh-_V5txmum4beWOwWM2lv9MuxoNeISC_4o5U\",\n",
    "        \"1R6qYs5BWYhx-tYAkv9ScI6rjfJjdDUCO-kQCYL64rJw\",\n",
    "        \"1Mqb3ukB9PExDAScnWExglrGfQRgFTJUKkgymjQVYCXk\",\n",
    "        \"1UvjXm-Su-1pXG8fyGihabPiJITkTX0Osrry7rCmx6zI\",\n",
    "        \"111F08wLtP-hfprPzD2DW8IiMa4gwVvYBraYnK3hnLJI\",\n",
    "        \"1Pk50hTaD98bsa12QyVURJn064qsQ3FPlxB_m-5-SoXU\",\n",
    "        \"1U53WZaWY9EB_2gnz3cuiRwIAguegmwBzVTyY_hfqUtw\",\n",
    "        \"1yISTFINCauXAZa7g8wfTAbSlwJKvY364CrMPFvD2trM\",\n",
    "        \"1h1s5dcGpNDIe1tfnSdVyvfbrhJnEXeb-50HbEtVh-CQ\",\n",
    "        \"1kBVEGi_wXV2kTtlWtsBgjUlklAE868bO51d3wQ2Fa0c\",\n",
    "        \"193ijQ2IcJ8DlMndgH3g_p-jyztexbPvyuamupkyXy4U\",\n",
    "        \"1V4l2fOzsphhXAb4yJqxc9CTbhUIzW9infMz6Rq9OHgA\",\n",
    "        \"1_jiLLzkfBYThQLd2vTK_wdYk9lS3WmWfXQzJbHegFWc\",\n",
    "        \"1v8EGDo_Eu33QvMeTMtyfoe594W67dWPBhp3azqLSOWI\",\n",
    "        \"1BDQu2NhGj6wpajDd9ySvaP8GfQ-Hfscl3bg68oV68u4\",\n",
    "        \"1nqov0xWhmLe19pMEXpGnZbygUomCdv2FBm297vpftYs\",\n",
    "        \"13LS3x_XvvjtyAAmsIjxv6hICQ8VRR3MpFkfOR1KQ3ZU\",\n",
    "        \"12yMHAMzrQoCEcfeA3aHul2Amp9aAQQ9nROftm7iUToU\",\n",
    "        \"1cCht4YN5ME7yhTRhRSKdSAIXqzcSdFL70QS8pTrB3n8\",\n",
    "        \"1Yxjeoj9dFUpRpHL28-sMRg3844nKzVHJtjEkdYK8R8Y\",\n",
    "        \"1Q_uSHqFAgMOdiLLw4jMJWXYmGdpnxjojYgcxZkiNWgQ\"]"
   ]
  },
  {
   "cell_type": "code",
   "execution_count": 8,
   "metadata": {},
   "outputs": [],
   "source": [
    "for i in rvh_url:\n",
    "        url = (\"https://docs.google.com/document/d/\"\n",
    "                +i\n",
    "                +\"/export?format=txt\")\n",
    "        webbrowser.open(url)"
   ]
  },
  {
   "cell_type": "code",
   "execution_count": 35,
   "metadata": {},
   "outputs": [],
   "source": [
    "for x in range(1,40):\n",
    "    if x!=16:\n",
    "        with open(\"Scrapped books(RvH)/\"+str(x)+\".txt\", encoding=\"cp437\") as f:\n",
    "            lines = f.readlines()\n",
    "        temp = \"\"\n",
    "        for i in lines:\n",
    "            temp += i\n",
    "        temp = re.sub(\"[\\n\\r]\", \" \", temp)\n",
    "        temp = re.sub(\" +\", \" \", temp)\n",
    "        temp = re.sub(\"[\\[].*?[\\]]\", \"\", temp)\n",
    "        temp = temp.encode(\"ascii\", \"ignore\")\n",
    "        temp = temp.decode()\n",
    "        path = \"Scrapped books(RvH)/complete_corpus.txt\"\n",
    "        text = open(path, \"a\")\n",
    "        text.write(temp)\n",
    "        text.close"
   ]
  }
 ],
 "metadata": {
  "kernelspec": {
   "display_name": "Python 3.9.7 ('base')",
   "language": "python",
   "name": "python3"
  },
  "language_info": {
   "codemirror_mode": {
    "name": "ipython",
    "version": 3
   },
   "file_extension": ".py",
   "mimetype": "text/x-python",
   "name": "python",
   "nbconvert_exporter": "python",
   "pygments_lexer": "ipython3",
   "version": "3.9.7"
  },
  "orig_nbformat": 4,
  "vscode": {
   "interpreter": {
    "hash": "34ab73eb2a201c4b750598ec4bd41f14c725bb809bc0c8207569acb80dee3ff5"
   }
  }
 },
 "nbformat": 4,
 "nbformat_minor": 2
}

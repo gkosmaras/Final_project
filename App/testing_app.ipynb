{
 "cells": [
  {
   "cell_type": "code",
   "execution_count": null,
   "metadata": {},
   "outputs": [],
   "source": [
    "# Extremely important first line, as it sets our environment to Python 3.10, \n",
    "# so that tkinter can display properly.\n",
    "#!\"C:\\Users\\giorg\\AppData\\Local\\Programs\\Python\\Python310\\python.exe\"\n",
    "# Or maybe not as it seems\n",
    "# TODO\n",
    "# \n"
   ]
  },
  {
   "cell_type": "code",
   "execution_count": null,
   "metadata": {},
   "outputs": [],
   "source": [
    "# Patch notes\n",
    "    # v1.0\n",
    "        # Created a basic window, set appropriate sizes, content\n",
    "        # and a display icon\n",
    "    # v1.1\n",
    "        # Added a background image that resizes with the window's dimensions\n",
    "    # v1.2\n",
    "        # Added the text submission interface and a process to save the input\n",
    "        # in .txt files"
   ]
  },
  {
   "cell_type": "code",
   "execution_count": 20,
   "metadata": {},
   "outputs": [],
   "source": [
    "import tkinter as tk\n",
    "from tkinter import *\n",
    "from tkinter import ttk\n",
    "from PIL import Image, ImageTk\n",
    "\n",
    "def resize_image(event):\n",
    "    new_width = event.width\n",
    "    new_height = event.height\n",
    "    image = copy_of_image.resize((new_width, new_height))\n",
    "    photo = ImageTk.PhotoImage(image)\n",
    "    label.config(image = photo)\n",
    "    label.image = photo\n",
    "\n",
    "def get_value():\n",
    "    text = open(\"test.txt\", \"a\")\n",
    "    text.write(input_win.get(1.0, END))\n",
    "    text.close()\n",
    "\n",
    "# Creating the window itself\n",
    "root = Tk()\n",
    "# Set an icon for the app\n",
    "root.iconbitmap('icon.ico')\n",
    "# Set the geometry of it\n",
    "window_x = 600\n",
    "window_y = 400\n",
    "screen_x = root.winfo_screenwidth()\n",
    "screen_y = root.winfo_screenheight()\n",
    "centre_x = int(screen_x/2 - window_x/2)\n",
    "centre_y = int(screen_y/2 - window_y/2)\n",
    "root.geometry(f\"{window_x}x{window_y}+{centre_x}+{centre_y}\")\n",
    "# Define the title and greeting text\n",
    "root.title(\"Prototype 1.2\")\n",
    "message = Label(root, text= \"Hello\")\n",
    "message.pack()\n",
    "# Create a text writer for users to input text\n",
    "input_win = Text(root, height=2, width=8)\n",
    "input_win.pack()\n",
    "# Create a button for text submission\n",
    "save = Button(root, text= \"Save file\", command=get_value)\n",
    "save.pack()\n",
    "# Set an image as background that live-reacts to window size\n",
    "image = Image.open(\"orangutan_PNG24.png\")\n",
    "copy_of_image = image.copy()\n",
    "photo = ImageTk.PhotoImage(image)\n",
    "label = ttk.Label(root, image = photo)\n",
    "label.bind(\"<Configure>\", resize_image)\n",
    "label.pack(fill=BOTH, expand = YES)\n",
    "\n",
    "root.mainloop()"
   ]
  }
 ],
 "metadata": {
  "kernelspec": {
   "display_name": "Python 3.9.7 ('base')",
   "language": "python",
   "name": "python3"
  },
  "language_info": {
   "codemirror_mode": {
    "name": "ipython",
    "version": 3
   },
   "file_extension": ".py",
   "mimetype": "text/x-python",
   "name": "python",
   "nbconvert_exporter": "python",
   "pygments_lexer": "ipython3",
   "version": "3.9.7"
  },
  "orig_nbformat": 4,
  "vscode": {
   "interpreter": {
    "hash": "34ab73eb2a201c4b750598ec4bd41f14c725bb809bc0c8207569acb80dee3ff5"
   }
  }
 },
 "nbformat": 4,
 "nbformat_minor": 2
}

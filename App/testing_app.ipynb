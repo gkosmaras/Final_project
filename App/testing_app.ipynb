{
 "cells": [
  {
   "cell_type": "code",
   "execution_count": null,
   "metadata": {},
   "outputs": [],
   "source": [
    "# Patch notes\n",
    "    # v1.0\n",
    "        # Created a basic window, set appropriate sizes, content\n",
    "        # and a display icon\n",
    "    # v1.1\n",
    "        # Added a background image that resizes with the window's dimensions\n",
    "    # v1.2\n",
    "        # Added the text submission interface and a process to save the input\n",
    "        # in .txt files\n",
    "    # v1.3\n",
    "        # Removed the saving to file process for the prompts.\n",
    "        # Intergrated the text generation model, does not recognise inputted\n",
    "        # prompts still.\n",
    "    # v1.4\n",
    "        # Got it to get the prompt and return a text starting with that\n",
    "        # prompt\n",
    "    # v1.5\n",
    "        # Introduced a slider for the \"temperature\" of the text"
   ]
  },
  {
   "cell_type": "code",
   "execution_count": null,
   "metadata": {},
   "outputs": [],
   "source": [
    "# TODO \n",
    "# Set a menu/choice/whatever for author selection; and according to that\n",
    "# change the background appropriately."
   ]
  },
  {
   "cell_type": "code",
   "execution_count": 1,
   "metadata": {},
   "outputs": [],
   "source": [
    "import tkinter as tk\n",
    "from tkinter import *\n",
    "from tkinter import ttk\n",
    "from tkinter.ttk import *\n",
    "from PIL import Image, ImageTk\n",
    "from aitextgen import aitextgen\n",
    "tokenizer_file = \"D:\\CAB_Work\\Final_project\\Models\\lovecraft.tokenizer.json\"\n",
    "ai = aitextgen(model_folder=\"D:\\CAB_Work\\Final_project\\Models\\lovecraft_model\",\n",
    "                tokenizer_file=\"D:\\CAB_Work\\Final_project\\Models\\lovecraft.tokenizer.json\")"
   ]
  },
  {
   "cell_type": "code",
   "execution_count": 16,
   "metadata": {},
   "outputs": [],
   "source": [
    "def generate():\n",
    "    text = input_win.get(\"1.0\", \"end-1c\")\n",
    "    input_win.delete(\"1.0\", \"end-1c\")\n",
    "    mood = (int(slider.get()))/10\n",
    "    out = ai.generate_one(prompt=text, \n",
    "                        max_length=100,\n",
    "                        temperature=mood)\n",
    "    input_win.insert(\"1.0\", out)\n",
    "def resize_image(event):\n",
    "    new_width = event.width\n",
    "    new_height = event.height\n",
    "    image = copy_of_image.resize((new_width, new_height))\n",
    "    photo = ImageTk.PhotoImage(image)\n",
    "    label.config(image = photo)\n",
    "    label.image = photo\n",
    "# Creating the window itself\n",
    "root = Tk()\n",
    "root.title(\"Prototype 1.5\")\n",
    "# Set the geometry of it\n",
    "window_x = 600\n",
    "window_y = 400\n",
    "screen_x = root.winfo_screenwidth()\n",
    "screen_y = root.winfo_screenheight()\n",
    "centre_x = int(screen_x/2 - window_x/2)\n",
    "centre_y = int(screen_y/2 - window_y/2)\n",
    "root.geometry(f\"{window_x}x{window_y}+{centre_x}+{centre_y}\")\n",
    "# Create a slider for the temperature\n",
    "temp_intro=Label(root, text=\"Select a mood, from sober to high\")\n",
    "temp_intro.pack(side=tk.TOP)\n",
    "slider = DoubleVar()\n",
    "scale = tk.Scale(root, variable=slider,\n",
    "            from_=0, to=12, \n",
    "            tickinterval=1,\n",
    "            orient=HORIZONTAL,\n",
    "            showvalue=0)\n",
    "scale.pack(side=tk.TOP, fill=tk.X)\n",
    "# Define the greeting text\n",
    "message = Label(root, text= \"Please type a seed prompt.\")\n",
    "message.pack()\n",
    "# Create a text widget for input and output, also add scrollbar\n",
    "scroll = tk.Scrollbar(root)\n",
    "input_win = tk.Text(root, width=40)\n",
    "scroll.pack(side=tk.RIGHT, fill=tk.Y)\n",
    "input_win.pack(side=tk.LEFT, fill=tk.Y)\n",
    "scroll.config(command=input_win.yview)\n",
    "input_win.config(yscrollcommand=scroll.set, wrap=WORD)\n",
    "# Add the button\n",
    "button =Button(root,text=\"Tell me something\", command= generate)\n",
    "button.pack()\n",
    "# Set an image as background that live-reacts to window size\n",
    "image = Image.open(\"orangutan_PNG24.png\")\n",
    "copy_of_image = image.copy()\n",
    "photo = ImageTk.PhotoImage(image)\n",
    "label = ttk.Label(root, image = photo)\n",
    "label.bind(\"<Configure>\", resize_image)\n",
    "label.pack(fill=BOTH, expand = YES)\n",
    "root.mainloop()"
   ]
  }
 ],
 "metadata": {
  "kernelspec": {
   "display_name": "Python 3.9.7 ('base')",
   "language": "python",
   "name": "python3"
  },
  "language_info": {
   "codemirror_mode": {
    "name": "ipython",
    "version": 3
   },
   "file_extension": ".py",
   "mimetype": "text/x-python",
   "name": "python",
   "nbconvert_exporter": "python",
   "pygments_lexer": "ipython3",
   "version": "3.9.7"
  },
  "orig_nbformat": 4,
  "vscode": {
   "interpreter": {
    "hash": "34ab73eb2a201c4b750598ec4bd41f14c725bb809bc0c8207569acb80dee3ff5"
   }
  }
 },
 "nbformat": 4,
 "nbformat_minor": 2
}

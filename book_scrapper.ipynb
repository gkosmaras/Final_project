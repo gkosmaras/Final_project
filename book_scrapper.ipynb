{
 "cells": [
  {
   "cell_type": "code",
   "execution_count": null,
   "metadata": {},
   "outputs": [],
   "source": [
    "from bs4 import BeautifulSoup\n",
    "import requests\n",
    "import re"
   ]
  },
  {
   "cell_type": "code",
   "execution_count": 105,
   "metadata": {},
   "outputs": [],
   "source": [
    "# FUNCTIONS\n",
    "\n",
    "def filter(x):\n",
    "    temp = \"\"\n",
    "    for i in range(len(x)):\n",
    "        temp += (x[i].text)\n",
    "    temp = temp.replace(\"\\n\",\" \")\n",
    "    temp = re.sub(\"[\\[].*?[\\]]\", \"\", temp)\n",
    "    temp = temp.replace(\"\\\\\", \"\")\n",
    "    return temp"
   ]
  },
  {
   "cell_type": "code",
   "execution_count": 116,
   "metadata": {},
   "outputs": [],
   "source": [
    "url = \"https://en.wikisource.org/wiki/The_Dunwich_Horror/full\"\n",
    "page = requests.get(url)\n",
    "soup = BeautifulSoup(page.content, \"html.parser\")\n",
    "title = soup.find(id=\"firstHeading\").text\n",
    "title = title.replace(\"/full\", \"\") + \" by H. P. Lovecraft\"\n",
    "content = soup.find(id=\"bodyContent\").find_all(\"p\")\n",
    "content = filter(content)\n",
    "title = \"The Dunwich Horror by H. P. LOVECRAFT —Charles Lamb: Witches and Other Night-Fears\"\n",
    "content = content.replace(title, \"\")"
   ]
  },
  {
   "cell_type": "code",
   "execution_count": 123,
   "metadata": {},
   "outputs": [],
   "source": [
    "text = open(\"Scrapped books\\dunwich_horror.txt\", \"w\")\n",
    "text.write(content)\n",
    "text.close()"
   ]
  },
  {
   "cell_type": "code",
   "execution_count": 114,
   "metadata": {},
   "outputs": [
    {
     "data": {
      "text/plain": [
       "'The Dunwich Horror by H. P. Lovecraft'"
      ]
     },
     "execution_count": 114,
     "metadata": {},
     "output_type": "execute_result"
    }
   ],
   "source": [
    "title"
   ]
  }
 ],
 "metadata": {
  "kernelspec": {
   "display_name": "Python 3.9.7 ('base')",
   "language": "python",
   "name": "python3"
  },
  "language_info": {
   "codemirror_mode": {
    "name": "ipython",
    "version": 3
   },
   "file_extension": ".py",
   "mimetype": "text/x-python",
   "name": "python",
   "nbconvert_exporter": "python",
   "pygments_lexer": "ipython3",
   "version": "3.9.7"
  },
  "orig_nbformat": 4,
  "vscode": {
   "interpreter": {
    "hash": "34ab73eb2a201c4b750598ec4bd41f14c725bb809bc0c8207569acb80dee3ff5"
   }
  }
 },
 "nbformat": 4,
 "nbformat_minor": 2
}
